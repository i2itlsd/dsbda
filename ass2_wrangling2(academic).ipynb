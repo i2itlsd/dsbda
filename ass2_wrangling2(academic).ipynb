{
 "cells": [
  {
   "cell_type": "code",
   "execution_count": 26,
   "id": "6e0e5e98-8abd-40d4-83d3-013c1cf3d56d",
   "metadata": {},
   "outputs": [
    {
     "name": "stdout",
     "output_type": "stream",
     "text": [
      "      Roll No          Name  Subject 1  Subject 2  Subject 3  Subject 4  \\\n",
      "0           1     Student_1        100         62       73.0       92.0   \n",
      "1           2     Student_2         72         97       82.0        NaN   \n",
      "2           3     Student_3        100         88       71.0       99.0   \n",
      "3           4     Student_4         72         99        NaN       84.0   \n",
      "4           5     Student_5         97         70       84.0       70.0   \n",
      "...       ...           ...        ...        ...        ...        ...   \n",
      "996       997   Student_997         88         68       84.0       66.0   \n",
      "997       998   Student_998         61         96       62.0       84.0   \n",
      "998       999   Student_999         72         76       90.0       72.0   \n",
      "999      1000  Student_1000         68         87      100.0       76.0   \n",
      "1000        1     Student_1        100         62       73.0       92.0   \n",
      "\n",
      "      Attendance  \n",
      "0             96  \n",
      "1             78  \n",
      "2            -94  \n",
      "3             86  \n",
      "4             86  \n",
      "...          ...  \n",
      "996           98  \n",
      "997           83  \n",
      "998           90  \n",
      "999           79  \n",
      "1000          96  \n",
      "\n",
      "[1001 rows x 7 columns]\n"
     ]
    }
   ],
   "source": [
    "import pandas as pd\n",
    "import numpy as np\n",
    "df = pd.read_csv('A1.csv')\n",
    "print(df)"
   ]
  },
  {
   "cell_type": "code",
   "execution_count": 27,
   "id": "ea2dbf27-1de0-4be1-b988-181f05c90c6b",
   "metadata": {},
   "outputs": [
    {
     "data": {
      "text/plain": [
       "Roll No       0\n",
       "Name          0\n",
       "Subject 1     0\n",
       "Subject 2     0\n",
       "Subject 3     1\n",
       "Subject 4     1\n",
       "Attendance    0\n",
       "dtype: int64"
      ]
     },
     "execution_count": 27,
     "metadata": {},
     "output_type": "execute_result"
    }
   ],
   "source": [
    "# Missing values in data\n",
    "\n",
    "df.isnull().sum()"
   ]
  },
  {
   "cell_type": "code",
   "execution_count": 28,
   "id": "410c498d-da6d-489b-9620-49faf0fb3fa8",
   "metadata": {},
   "outputs": [
    {
     "name": "stdout",
     "output_type": "stream",
     "text": [
      "<class 'pandas.core.frame.DataFrame'>\n",
      "RangeIndex: 1001 entries, 0 to 1000\n",
      "Data columns (total 7 columns):\n",
      " #   Column      Non-Null Count  Dtype  \n",
      "---  ------      --------------  -----  \n",
      " 0   Roll No     1001 non-null   int64  \n",
      " 1   Name        1001 non-null   object \n",
      " 2   Subject 1   1001 non-null   int64  \n",
      " 3   Subject 2   1001 non-null   int64  \n",
      " 4   Subject 3   1000 non-null   float64\n",
      " 5   Subject 4   1000 non-null   float64\n",
      " 6   Attendance  1001 non-null   int64  \n",
      "dtypes: float64(2), int64(4), object(1)\n",
      "memory usage: 54.9+ KB\n"
     ]
    }
   ],
   "source": [
    "df.info()"
   ]
  },
  {
   "cell_type": "code",
   "execution_count": 29,
   "id": "2a927f38-9416-485b-bfc0-c374da03c882",
   "metadata": {},
   "outputs": [
    {
     "name": "stdout",
     "output_type": "stream",
     "text": [
      "      Roll No  Name  Subject 1  Subject 2  Subject 3  Subject 4  Attendance\n",
      "0        True  True       True       True       True       True        True\n",
      "1        True  True       True       True       True      False        True\n",
      "2        True  True       True       True       True       True        True\n",
      "3        True  True       True       True      False       True        True\n",
      "4        True  True       True       True       True       True        True\n",
      "...       ...   ...        ...        ...        ...        ...         ...\n",
      "996      True  True       True       True       True       True        True\n",
      "997      True  True       True       True       True       True        True\n",
      "998      True  True       True       True       True       True        True\n",
      "999      True  True       True       True       True       True        True\n",
      "1000     True  True       True       True       True       True        True\n",
      "\n",
      "[1001 rows x 7 columns]\n"
     ]
    }
   ],
   "source": [
    "bs = pd.notnull(df)\n",
    "print(bs)"
   ]
  },
  {
   "cell_type": "code",
   "execution_count": 30,
   "id": "77ecbcb9-92e3-46d0-aedd-cc25696af70c",
   "metadata": {},
   "outputs": [
    {
     "name": "stdout",
     "output_type": "stream",
     "text": [
      "      Roll No          Name  Subject 1  Subject 2  Subject 3  Subject 4  \\\n",
      "0           1     Student_1        100         62       73.0       92.0   \n",
      "1           2     Student_2         72         97       82.0        0.0   \n",
      "2           3     Student_3        100         88       71.0       99.0   \n",
      "3           4     Student_4         72         99        0.0       84.0   \n",
      "4           5     Student_5         97         70       84.0       70.0   \n",
      "...       ...           ...        ...        ...        ...        ...   \n",
      "996       997   Student_997         88         68       84.0       66.0   \n",
      "997       998   Student_998         61         96       62.0       84.0   \n",
      "998       999   Student_999         72         76       90.0       72.0   \n",
      "999      1000  Student_1000         68         87      100.0       76.0   \n",
      "1000        1     Student_1        100         62       73.0       92.0   \n",
      "\n",
      "      Attendance  \n",
      "0             96  \n",
      "1             78  \n",
      "2            -94  \n",
      "3             86  \n",
      "4             86  \n",
      "...          ...  \n",
      "996           98  \n",
      "997           83  \n",
      "998           90  \n",
      "999           79  \n",
      "1000          96  \n",
      "\n",
      "[1001 rows x 7 columns]\n"
     ]
    }
   ],
   "source": [
    "df.fillna(0, inplace=True)\n",
    "print(df)"
   ]
  },
  {
   "cell_type": "code",
   "execution_count": 31,
   "id": "2d3cdcd9-3472-4b8d-a28e-5b1fbec6db54",
   "metadata": {},
   "outputs": [
    {
     "name": "stdout",
     "output_type": "stream",
     "text": [
      "      Roll No          Name  Subject 1  Subject 2  Subject 3  Subject 4  \\\n",
      "0           1     Student_1        100         62       73.0       92.0   \n",
      "1           2     Student_2         72         97       82.0        NaN   \n",
      "2           3     Student_3        100         88       71.0       99.0   \n",
      "3           4     Student_4         72         99        NaN       84.0   \n",
      "4           5     Student_5         97         70       84.0       70.0   \n",
      "...       ...           ...        ...        ...        ...        ...   \n",
      "996       997   Student_997         88         68       84.0       66.0   \n",
      "997       998   Student_998         61         96       62.0       84.0   \n",
      "998       999   Student_999         72         76       90.0       72.0   \n",
      "999      1000  Student_1000         68         87      100.0       76.0   \n",
      "1000        1     Student_1        100         62       73.0       92.0   \n",
      "\n",
      "      Attendance  \n",
      "0             96  \n",
      "1             78  \n",
      "2            -94  \n",
      "3             86  \n",
      "4             86  \n",
      "...          ...  \n",
      "996           98  \n",
      "997           83  \n",
      "998           90  \n",
      "999           79  \n",
      "1000          96  \n",
      "\n",
      "[1001 rows x 7 columns]\n"
     ]
    }
   ],
   "source": [
    "df = pd.read_csv('A1.csv')\n",
    "df.fillna(method='pad')\n",
    "print(df)"
   ]
  },
  {
   "cell_type": "code",
   "execution_count": 32,
   "id": "ee00ab1c-5bb3-41de-a940-b45f0bf256d7",
   "metadata": {},
   "outputs": [
    {
     "name": "stdout",
     "output_type": "stream",
     "text": [
      "      Roll No          Name  Subject 1  Subject 2  Subject 3  Subject 4  \\\n",
      "0           1     Student_1        100         62       73.0       92.0   \n",
      "1           2     Student_2         72         97       82.0        NaN   \n",
      "2           3     Student_3        100         88       71.0       99.0   \n",
      "3           4     Student_4         72         99        NaN       84.0   \n",
      "4           5     Student_5         97         70       84.0       70.0   \n",
      "...       ...           ...        ...        ...        ...        ...   \n",
      "996       997   Student_997         88         68       84.0       66.0   \n",
      "997       998   Student_998         61         96       62.0       84.0   \n",
      "998       999   Student_999         72         76       90.0       72.0   \n",
      "999      1000  Student_1000         68         87      100.0       76.0   \n",
      "1000        1     Student_1        100         62       73.0       92.0   \n",
      "\n",
      "      Attendance  \n",
      "0             96  \n",
      "1             78  \n",
      "2            -94  \n",
      "3             86  \n",
      "4             86  \n",
      "...          ...  \n",
      "996           98  \n",
      "997           83  \n",
      "998           90  \n",
      "999           79  \n",
      "1000          96  \n",
      "\n",
      "[1001 rows x 7 columns]\n"
     ]
    }
   ],
   "source": [
    "df = pd.read_csv('A1.csv')\n",
    "df.fillna(method='bfill')\n",
    "print(df)"
   ]
  },
  {
   "cell_type": "code",
   "execution_count": 33,
   "id": "ad000cca-f9e3-408f-bd18-b76db29bcb92",
   "metadata": {},
   "outputs": [
    {
     "name": "stdout",
     "output_type": "stream",
     "text": [
      "      Roll No          Name  Subject 1  Subject 2  Subject 3  Subject 4  \\\n",
      "0           1     Student_1        100         62       73.0       92.0   \n",
      "1           2     Student_2         72         97       82.0        NaN   \n",
      "2           3     Student_3        100         88       71.0       99.0   \n",
      "3           4     Student_4         72         99        NaN       84.0   \n",
      "4           5     Student_5         97         70       84.0       70.0   \n",
      "...       ...           ...        ...        ...        ...        ...   \n",
      "996       997   Student_997         88         68       84.0       66.0   \n",
      "997       998   Student_998         61         96       62.0       84.0   \n",
      "998       999   Student_999         72         76       90.0       72.0   \n",
      "999      1000  Student_1000         68         87      100.0       76.0   \n",
      "1000        1     Student_1        100         62       73.0       92.0   \n",
      "\n",
      "      Attendance  \n",
      "0             96  \n",
      "1             78  \n",
      "2            -94  \n",
      "3             86  \n",
      "4             86  \n",
      "...          ...  \n",
      "996           98  \n",
      "997           83  \n",
      "998           90  \n",
      "999           79  \n",
      "1000          96  \n",
      "\n",
      "[1001 rows x 7 columns]\n"
     ]
    }
   ],
   "source": [
    "df = pd.read_csv('A1.csv')\n",
    "df.interpolate(method='linear', limit_direction='forward')\n",
    "print(df)"
   ]
  },
  {
   "cell_type": "code",
   "execution_count": 34,
   "id": "8e1b0c1a-4e94-441b-9aec-3c17c3db47ef",
   "metadata": {},
   "outputs": [
    {
     "name": "stdout",
     "output_type": "stream",
     "text": [
      "      Roll No          Name  Subject 1  Subject 2  Subject 3  Subject 4  \\\n",
      "0           1     Student_1        100         62      73.00     92.000   \n",
      "1           2     Student_2         72         97      82.00     80.545   \n",
      "2           3     Student_3        100         88      71.00     99.000   \n",
      "3           4     Student_4         72         99      79.89     84.000   \n",
      "4           5     Student_5         97         70      84.00     70.000   \n",
      "...       ...           ...        ...        ...        ...        ...   \n",
      "996       997   Student_997         88         68      84.00     66.000   \n",
      "997       998   Student_998         61         96      62.00     84.000   \n",
      "998       999   Student_999         72         76      90.00     72.000   \n",
      "999      1000  Student_1000         68         87     100.00     76.000   \n",
      "1000        1     Student_1        100         62      73.00     92.000   \n",
      "\n",
      "      Attendance  \n",
      "0             96  \n",
      "1             78  \n",
      "2            -94  \n",
      "3             86  \n",
      "4             86  \n",
      "...          ...  \n",
      "996           98  \n",
      "997           83  \n",
      "998           90  \n",
      "999           79  \n",
      "1000          96  \n",
      "\n",
      "[1001 rows x 7 columns]\n"
     ]
    }
   ],
   "source": [
    "df = pd.read_csv('A1.csv')\n",
    "nc = ['Subject 1', 'Subject 2', 'Subject 3', 'Subject 4', 'Attendance']\n",
    "for col in nc:\n",
    "    df[col].fillna(df[col].mean(), inplace=True)\n",
    "print(df)"
   ]
  },
  {
   "cell_type": "code",
   "execution_count": 35,
   "id": "cf4dba45-74c6-40b2-82c4-9689826f3e12",
   "metadata": {},
   "outputs": [
    {
     "name": "stdout",
     "output_type": "stream",
     "text": [
      "      Roll No          Name  Subject 1  Subject 2  Subject 3  Subject 4  \\\n",
      "0           1     Student_1        100         62       73.0       92.0   \n",
      "1           2     Student_2         72         97       82.0        NaN   \n",
      "2           3     Student_3        100         88       71.0       99.0   \n",
      "3           4     Student_4         72         99        NaN       84.0   \n",
      "4           5     Student_5         97         70       84.0       70.0   \n",
      "...       ...           ...        ...        ...        ...        ...   \n",
      "996       997   Student_997         88         68       84.0       66.0   \n",
      "997       998   Student_998         61         96       62.0       84.0   \n",
      "998       999   Student_999         72         76       90.0       72.0   \n",
      "999      1000  Student_1000         68         87      100.0       76.0   \n",
      "1000        1     Student_1        100         62       73.0       92.0   \n",
      "\n",
      "      Attendance  \n",
      "0             96  \n",
      "1             78  \n",
      "2            -94  \n",
      "3             86  \n",
      "4             86  \n",
      "...          ...  \n",
      "996           98  \n",
      "997           83  \n",
      "998           90  \n",
      "999           79  \n",
      "1000          96  \n",
      "\n",
      "[1001 rows x 7 columns]\n"
     ]
    }
   ],
   "source": [
    "df = pd.read_csv('A1.csv')\n",
    "df.replace(to_replace=np.nan, value=85)\n",
    "print(df)"
   ]
  },
  {
   "cell_type": "code",
   "execution_count": 36,
   "id": "4a748403-064c-49fa-a6c7-a783e2ce1f56",
   "metadata": {},
   "outputs": [
    {
     "name": "stdout",
     "output_type": "stream",
     "text": [
      "      Roll No          Name  Subject 1  Subject 2  Subject 3  Subject 4  \\\n",
      "0           1     Student_1        100         62       73.0       92.0   \n",
      "1           2     Student_2         72         97       82.0        NaN   \n",
      "2           3     Student_3        100         88       71.0       99.0   \n",
      "3           4     Student_4         72         99        NaN       84.0   \n",
      "4           5     Student_5         97         70       84.0       70.0   \n",
      "...       ...           ...        ...        ...        ...        ...   \n",
      "996       997   Student_997         88         68       84.0       66.0   \n",
      "997       998   Student_998         61         96       62.0       84.0   \n",
      "998       999   Student_999         72         76       90.0       72.0   \n",
      "999      1000  Student_1000         68         87      100.0       76.0   \n",
      "1000        1     Student_1        100         62       73.0       92.0   \n",
      "\n",
      "      Attendance  \n",
      "0             96  \n",
      "1             78  \n",
      "2            -94  \n",
      "3             86  \n",
      "4             86  \n",
      "...          ...  \n",
      "996           98  \n",
      "997           83  \n",
      "998           90  \n",
      "999           79  \n",
      "1000          96  \n",
      "\n",
      "[1001 rows x 7 columns]\n"
     ]
    }
   ],
   "source": [
    "df = pd.read_csv('A1.csv')\n",
    "df.dropna()\n",
    "print(df)"
   ]
  },
  {
   "cell_type": "code",
   "execution_count": 37,
   "id": "10cdedd5-4d69-4457-b573-bc157c421767",
   "metadata": {},
   "outputs": [
    {
     "name": "stdout",
     "output_type": "stream",
     "text": [
      "      Roll No          Name  Subject 1  Subject 2  Subject 3  Subject 4  \\\n",
      "0           1     Student_1        100         62       73.0       92.0   \n",
      "1           2     Student_2         72         97       82.0        NaN   \n",
      "2           3     Student_3        100         88       71.0       99.0   \n",
      "3           4     Student_4         72         99        NaN       84.0   \n",
      "4           5     Student_5         97         70       84.0       70.0   \n",
      "...       ...           ...        ...        ...        ...        ...   \n",
      "996       997   Student_997         88         68       84.0       66.0   \n",
      "997       998   Student_998         61         96       62.0       84.0   \n",
      "998       999   Student_999         72         76       90.0       72.0   \n",
      "999      1000  Student_1000         68         87      100.0       76.0   \n",
      "1000        1     Student_1        100         62       73.0       92.0   \n",
      "\n",
      "      Attendance  \n",
      "0             96  \n",
      "1             78  \n",
      "2            -94  \n",
      "3             86  \n",
      "4             86  \n",
      "...          ...  \n",
      "996           98  \n",
      "997           83  \n",
      "998           90  \n",
      "999           79  \n",
      "1000          96  \n",
      "\n",
      "[1001 rows x 7 columns]\n"
     ]
    }
   ],
   "source": [
    "df = pd.read_csv('A1.csv')\n",
    "df.dropna(how='all', inplace=True)\n",
    "print(df)"
   ]
  },
  {
   "cell_type": "code",
   "execution_count": 38,
   "id": "ddd5a155-0b72-493c-bd3b-ece077fd299e",
   "metadata": {},
   "outputs": [
    {
     "name": "stdout",
     "output_type": "stream",
     "text": [
      "      Roll No          Name  Subject 1  Subject 2  Subject 3  Subject 4  \\\n",
      "0           1     Student_1        100         62       73.0       92.0   \n",
      "2           3     Student_3        100         88       71.0       99.0   \n",
      "4           5     Student_5         97         70       84.0       70.0   \n",
      "5           6     Student_6         98         76       89.0       92.0   \n",
      "6           7     Student_7         61         64       97.0       98.0   \n",
      "...       ...           ...        ...        ...        ...        ...   \n",
      "996       997   Student_997         88         68       84.0       66.0   \n",
      "997       998   Student_998         61         96       62.0       84.0   \n",
      "998       999   Student_999         72         76       90.0       72.0   \n",
      "999      1000  Student_1000         68         87      100.0       76.0   \n",
      "1000        1     Student_1        100         62       73.0       92.0   \n",
      "\n",
      "      Attendance  \n",
      "0             96  \n",
      "2            -94  \n",
      "4             86  \n",
      "5             82  \n",
      "6             83  \n",
      "...          ...  \n",
      "996           98  \n",
      "997           83  \n",
      "998           90  \n",
      "999           79  \n",
      "1000          96  \n",
      "\n",
      "[999 rows x 7 columns]\n"
     ]
    }
   ],
   "source": [
    "df = pd.read_csv('A1.csv')\n",
    "df.dropna(how='any', inplace=True)\n",
    "print(df)"
   ]
  },
  {
   "cell_type": "code",
   "execution_count": 39,
   "id": "5a4d81a0-76b3-40ca-af4e-670ea51cb958",
   "metadata": {},
   "outputs": [
    {
     "name": "stdout",
     "output_type": "stream",
     "text": [
      "      Roll No          Name  Subject 1  Subject 2  Attendance\n",
      "0           1     Student_1        100         62          96\n",
      "1           2     Student_2         72         97          78\n",
      "2           3     Student_3        100         88         -94\n",
      "3           4     Student_4         72         99          86\n",
      "4           5     Student_5         97         70          86\n",
      "...       ...           ...        ...        ...         ...\n",
      "996       997   Student_997         88         68          98\n",
      "997       998   Student_998         61         96          83\n",
      "998       999   Student_999         72         76          90\n",
      "999      1000  Student_1000         68         87          79\n",
      "1000        1     Student_1        100         62          96\n",
      "\n",
      "[1001 rows x 5 columns]\n"
     ]
    }
   ],
   "source": [
    "df = pd.read_csv('A1.csv')\n",
    "df.dropna(how='any', axis=1, inplace=True)\n",
    "print(df)"
   ]
  },
  {
   "cell_type": "code",
   "execution_count": 40,
   "id": "47903d9a-f868-4b6c-a020-c5aacd10943c",
   "metadata": {},
   "outputs": [
    {
     "name": "stdout",
     "output_type": "stream",
     "text": [
      "      Roll No          Name  Subject 1  Subject 2  Subject 3  Subject 4  \\\n",
      "0           1     Student_1        100         62       73.0       92.0   \n",
      "2           3     Student_3        100         88       71.0       99.0   \n",
      "4           5     Student_5         97         70       84.0       70.0   \n",
      "5           6     Student_6         98         76       89.0       92.0   \n",
      "6           7     Student_7         61         64       97.0       98.0   \n",
      "...       ...           ...        ...        ...        ...        ...   \n",
      "996       997   Student_997         88         68       84.0       66.0   \n",
      "997       998   Student_998         61         96       62.0       84.0   \n",
      "998       999   Student_999         72         76       90.0       72.0   \n",
      "999      1000  Student_1000         68         87      100.0       76.0   \n",
      "1000        1     Student_1        100         62       73.0       92.0   \n",
      "\n",
      "      Attendance  \n",
      "0             96  \n",
      "2            -94  \n",
      "4             86  \n",
      "5             82  \n",
      "6             83  \n",
      "...          ...  \n",
      "996           98  \n",
      "997           83  \n",
      "998           90  \n",
      "999           79  \n",
      "1000          96  \n",
      "\n",
      "[999 rows x 7 columns]\n"
     ]
    }
   ],
   "source": [
    "df = pd.read_csv('A1.csv')\n",
    "df.dropna(axis=0, inplace=True)\n",
    "print(df)"
   ]
  },
  {
   "cell_type": "code",
   "execution_count": 41,
   "id": "a3240788-d1d4-4752-a47b-d1c8144b1bed",
   "metadata": {},
   "outputs": [
    {
     "name": "stdout",
     "output_type": "stream",
     "text": [
      "     Roll No          Name  Subject 1  Subject 2  Subject 3  Subject 4  \\\n",
      "0          1     Student_1        100         62       73.0       92.0   \n",
      "2          3     Student_3        100         88       71.0       99.0   \n",
      "4          5     Student_5         97         70       84.0       70.0   \n",
      "5          6     Student_6         98         76       89.0       92.0   \n",
      "6          7     Student_7         61         64       97.0       98.0   \n",
      "..       ...           ...        ...        ...        ...        ...   \n",
      "995      996   Student_996         74         89       85.0       71.0   \n",
      "996      997   Student_997         88         68       84.0       66.0   \n",
      "997      998   Student_998         61         96       62.0       84.0   \n",
      "998      999   Student_999         72         76       90.0       72.0   \n",
      "999     1000  Student_1000         68         87      100.0       76.0   \n",
      "\n",
      "     Attendance  \n",
      "0            96  \n",
      "2           -94  \n",
      "4            86  \n",
      "5            82  \n",
      "6            83  \n",
      "..          ...  \n",
      "995          87  \n",
      "996          98  \n",
      "997          83  \n",
      "998          90  \n",
      "999          79  \n",
      "\n",
      "[998 rows x 7 columns]\n"
     ]
    }
   ],
   "source": [
    "df.drop_duplicates(inplace=True)\n",
    "print(df)"
   ]
  },
  {
   "cell_type": "code",
   "execution_count": 42,
   "id": "5b859e1f-0fd4-4304-9cde-5d508c25987e",
   "metadata": {},
   "outputs": [
    {
     "name": "stdout",
     "output_type": "stream",
     "text": [
      "     Roll No Name  Subject 1  Subject 2  Subject 3  Subject 4  Attendance\n",
      "0        NaN  NaN        NaN        NaN        NaN        NaN         NaN\n",
      "2        NaN  NaN        NaN        NaN        NaN        NaN       -94.0\n",
      "4        NaN  NaN        NaN        NaN        NaN        NaN         NaN\n",
      "5        NaN  NaN        NaN        NaN        NaN        NaN         NaN\n",
      "6        NaN  NaN        NaN        NaN        NaN        NaN         NaN\n",
      "..       ...  ...        ...        ...        ...        ...         ...\n",
      "995      NaN  NaN        NaN        NaN        NaN        NaN         NaN\n",
      "996      NaN  NaN        NaN        NaN        NaN        NaN         NaN\n",
      "997      NaN  NaN        NaN        NaN        NaN        NaN         NaN\n",
      "998      NaN  NaN        NaN        NaN        NaN        NaN         NaN\n",
      "999      NaN  NaN        NaN        NaN        NaN        NaN         NaN\n",
      "\n",
      "[998 rows x 7 columns]\n"
     ]
    }
   ],
   "source": [
    "x = df[['Subject 1', 'Subject 2', 'Subject 3', 'Subject 4', 'Attendance']]\n",
    "print(df[x<0])"
   ]
  },
  {
   "cell_type": "code",
   "execution_count": 43,
   "id": "8ad2ab9c-d3dc-4c86-b054-65dbb1241b85",
   "metadata": {},
   "outputs": [
    {
     "name": "stdout",
     "output_type": "stream",
     "text": [
      "     Subject 1  Subject 2  Subject 3  Subject 4  Attendance\n",
      "0          100         62       73.0       92.0          96\n",
      "2          100         88       71.0       99.0           0\n",
      "4           97         70       84.0       70.0          86\n",
      "5           98         76       89.0       92.0          82\n",
      "6           61         64       97.0       98.0          83\n",
      "..         ...        ...        ...        ...         ...\n",
      "995         74         89       85.0       71.0          87\n",
      "996         88         68       84.0       66.0          98\n",
      "997         61         96       62.0       84.0          83\n",
      "998         72         76       90.0       72.0          90\n",
      "999         68         87      100.0       76.0          79\n",
      "\n",
      "[998 rows x 5 columns]\n"
     ]
    }
   ],
   "source": [
    "# Inconsistencies in the data\n",
    "\n",
    "x = x.clip(lower=0)\n",
    "print(x)"
   ]
  },
  {
   "cell_type": "code",
   "execution_count": 44,
   "id": "9978a97c-444f-48d1-96f7-b3b2d7f88e63",
   "metadata": {},
   "outputs": [
    {
     "data": {
      "image/png": "[encoded data removed]",
      "text/plain": [
       "<Figure size 432x288 with 1 Axes>"
      ]
     },
     "metadata": {
      "needs_background": "light"
     },
     "output_type": "display_data"
    },
    {
     "data": {
      "image/png": "[encoded data removed]",
      "text/plain": [
       "<Figure size 432x288 with 1 Axes>"
      ]
     },
     "metadata": {
      "needs_background": "light"
     },
     "output_type": "display_data"
    },
    {
     "data": {
      "image/png": "[encoded data removed]",
      "text/plain": [
       "<Figure size 432x288 with 1 Axes>"
      ]
     },
     "metadata": {
      "needs_background": "light"
     },
     "output_type": "display_data"
    },
    {
     "data": {
      "image/png": "[encoded data removed]",
      "text/plain": [
       "<Figure size 432x288 with 1 Axes>"
      ]
     },
     "metadata": {
      "needs_background": "light"
     },
     "output_type": "display_data"
    }
   ],
   "source": [
    "# Handling Outliers\n",
    "\n",
    "import seaborn as sns\n",
    "import matplotlib.pyplot as plt\n",
    "\n",
    "nc = ['Subject 1', 'Subject 2', 'Subject 3', 'Subject 4']\n",
    "for col in nc:\n",
    "    sns.boxplot(x=df[col])\n",
    "    plt.title(f'Boxplot of {col}')\n",
    "    plt.tight_layout()\n",
    "    plt.show()\n",
    "    "
   ]
  },
  {
   "cell_type": "code",
   "execution_count": 48,
   "id": "aa4acce3",
   "metadata": {},
   "outputs": [
    {
     "name": "stdout",
     "output_type": "stream",
     "text": [
      "     Roll No          Name  Subject 1  Subject 2  Subject 3  Subject 4  \\\n",
      "0          1     Student_1      100.0       62.0       73.0       92.0   \n",
      "2          3     Student_3      100.0       88.0       71.0       99.0   \n",
      "4          5     Student_5       97.0       70.0       84.0       70.0   \n",
      "5          6     Student_6       98.0       76.0       89.0       92.0   \n",
      "6          7     Student_7       61.0       64.0       97.0       98.0   \n",
      "..       ...           ...        ...        ...        ...        ...   \n",
      "995      996   Student_996       74.0       89.0       85.0       71.0   \n",
      "996      997   Student_997       88.0       68.0       84.0       66.0   \n",
      "997      998   Student_998       61.0       96.0       62.0       84.0   \n",
      "998      999   Student_999       72.0       76.0       90.0       72.0   \n",
      "999     1000  Student_1000       68.0       87.0      100.0       76.0   \n",
      "\n",
      "     Attendance  \n",
      "0            96  \n",
      "2           -94  \n",
      "4            86  \n",
      "5            82  \n",
      "6            83  \n",
      "..          ...  \n",
      "995          87  \n",
      "996          98  \n",
      "997          83  \n",
      "998          90  \n",
      "999          79  \n",
      "\n",
      "[998 rows x 7 columns]\n"
     ]
    }
   ],
   "source": [
    "for col in nc:\n",
    "    Q1 = df[col].quantile(0.25)\n",
    "    Q3 = df[col].quantile(0.75)\n",
    "    IQR = Q3 - Q1\n",
    "    lb = Q1 - 1.5*IQR\n",
    "    ub = Q3 + 1.5*IQR\n",
    "    df[col] = np.where((df[col]<lb) | (df[col]>ub), df[col].median(), df[col])\n",
    "\n",
    "print(df)"
   ]
  },
  {
   "cell_type": "code",
   "execution_count": 57,
   "id": "ac1c4d2e",
   "metadata": {},
   "outputs": [
    {
     "name": "stderr",
     "output_type": "stream",
     "text": [
      "/tmp/ipykernel_19954/784410992.py:3: FutureWarning: Dropping of nuisance columns in DataFrame reductions (with 'numeric_only=None') is deprecated; in a future version this will raise TypeError.  Select only valid columns before calling the reduction.\n",
      "  z = (df - df.mean())/df.std()\n"
     ]
    },
    {
     "name": "stdout",
     "output_type": "stream",
     "text": [
      "      Attendance Name   Roll No  Subject 1  Subject 2  Subject 3  Subject 4\n",
      "0       1.029784  NaN -1.726012   1.718218  -1.517511  -0.597082   0.971282\n",
      "1      -0.721646  NaN -1.722553  -0.598529   1.422599   0.182851        NaN\n",
      "2     -17.457528  NaN -1.719094   1.718218   0.666570  -0.770400   1.564820\n",
      "3       0.056767  NaN -1.715635  -0.598529   1.590605        NaN   0.292953\n",
      "4       0.056767  NaN -1.712176   1.469995  -0.845486   0.356169  -0.894122\n",
      "...          ...  ...       ...        ...        ...        ...        ...\n",
      "996     1.224387  NaN  1.719087   0.725327  -1.013492   0.356169  -1.233287\n",
      "997    -0.235138  NaN  1.722546  -1.508679   1.338595  -1.550333   0.292953\n",
      "998     0.445974  NaN  1.726005  -0.598529  -0.341467   0.876124  -0.724540\n",
      "999    -0.624344  NaN  1.729464  -0.929493   0.582567   1.742716  -0.385376\n",
      "1000    1.029784  NaN -1.726012   1.718218  -1.517511  -0.597082   0.971282\n",
      "\n",
      "[1001 rows x 7 columns]\n"
     ]
    },
    {
     "data": {
      "image/png": "[encoded data removed]",
      "text/plain": [
       "<Figure size 432x288 with 1 Axes>"
      ]
     },
     "metadata": {
      "needs_background": "light"
     },
     "output_type": "display_data"
    },
    {
     "name": "stdout",
     "output_type": "stream",
     "text": [
      "Roll No       0.000021\n",
      "Subject 1     0.091410\n",
      "Subject 2    -0.010696\n",
      "Subject 3     0.006017\n",
      "Subject 4    -0.068298\n",
      "Attendance   -5.348146\n",
      "dtype: float64\n"
     ]
    },
    {
     "name": "stderr",
     "output_type": "stream",
     "text": [
      "/tmp/ipykernel_19954/784410992.py:9: FutureWarning: Dropping of nuisance columns in DataFrame reductions (with 'numeric_only=None') is deprecated; in a future version this will raise TypeError.  Select only valid columns before calling the reduction.\n",
      "  print(df.skew())\n"
     ]
    }
   ],
   "source": [
    "df = pd.read_csv('A1.csv')\n",
    "\n",
    "z = (df - df.mean())/df.std()\n",
    "print(z)\n",
    "\n",
    "plt.hist(df[nc])\n",
    "plt.show()\n",
    "\n",
    "print(df.skew())\n"
   ]
  },
  {
   "cell_type": "code",
   "execution_count": null,
   "id": "2b30a005",
   "metadata": {},
   "outputs": [],
   "source": []
  }
 ],
 "metadata": {
  "kernelspec": {
   "display_name": "Python 3 (ipykernel)",
   "language": "python",
   "name": "python3"
  },
  "language_info": {
   "codemirror_mode": {
    "name": "ipython",
    "version": 3
   },
   "file_extension": ".py",
   "mimetype": "text/x-python",
   "name": "python",
   "nbconvert_exporter": "python",
   "pygments_lexer": "ipython3",
   "version": "3.12.7"
  }
 },
 "nbformat": 4,
 "nbformat_minor": 5
}
