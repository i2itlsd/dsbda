{
 "cells": [
  {
   "cell_type": "code",
   "execution_count": 1,
   "id": "09ed28d3-4e15-48f4-b0e7-49b48d0ddb30",
   "metadata": {},
   "outputs": [],
   "source": [
    "import pandas as pd\n",
    "import numpy as np\n",
    "import warnings\n",
    "warnings.filterwarnings('ignore')"
   ]
  },
  {
   "cell_type": "code",
   "execution_count": 2,
   "id": "8763ba88-6601-4ca1-9439-35559102572a",
   "metadata": {},
   "outputs": [
    {
     "data": {
      "text/html": [
       "<div>\n",
       "<style scoped>\n",
       "    .dataframe tbody tr th:only-of-type {\n",
       "        vertical-align: middle;\n",
       "    }\n",
       "\n",
       "    .dataframe tbody tr th {\n",
       "        vertical-align: top;\n",
       "    }\n",
       "\n",
       "    .dataframe thead th {\n",
       "        text-align: right;\n",
       "    }\n",
       "</style>\n",
       "<table border=\"1\" class=\"dataframe\">\n",
       "  <thead>\n",
       "    <tr style=\"text-align: right;\">\n",
       "      <th></th>\n",
       "      <th>id</th>\n",
       "      <th>title</th>\n",
       "      <th>author</th>\n",
       "      <th>text</th>\n",
       "      <th>label</th>\n",
       "    </tr>\n",
       "  </thead>\n",
       "  <tbody>\n",
       "    <tr>\n",
       "      <th>0</th>\n",
       "      <td>0</td>\n",
       "      <td>House Dem Aide: We Didn’t Even See Comey’s Let...</td>\n",
       "      <td>Darrell Lucus</td>\n",
       "      <td>House Dem Aide: We Didn’t Even See Comey’s Let...</td>\n",
       "      <td>1</td>\n",
       "    </tr>\n",
       "    <tr>\n",
       "      <th>1</th>\n",
       "      <td>1</td>\n",
       "      <td>FLYNN: Hillary Clinton, Big Woman on Campus - ...</td>\n",
       "      <td>Daniel J. Flynn</td>\n",
       "      <td>Ever get the feeling your life circles the rou...</td>\n",
       "      <td>0</td>\n",
       "    </tr>\n",
       "    <tr>\n",
       "      <th>2</th>\n",
       "      <td>2</td>\n",
       "      <td>Why the Truth Might Get You Fired</td>\n",
       "      <td>Consortiumnews.com</td>\n",
       "      <td>Why the Truth Might Get You Fired October 29, ...</td>\n",
       "      <td>1</td>\n",
       "    </tr>\n",
       "    <tr>\n",
       "      <th>3</th>\n",
       "      <td>3</td>\n",
       "      <td>15 Civilians Killed In Single US Airstrike Hav...</td>\n",
       "      <td>Jessica Purkiss</td>\n",
       "      <td>Videos 15 Civilians Killed In Single US Airstr...</td>\n",
       "      <td>1</td>\n",
       "    </tr>\n",
       "    <tr>\n",
       "      <th>4</th>\n",
       "      <td>4</td>\n",
       "      <td>Iranian woman jailed for fictional unpublished...</td>\n",
       "      <td>Howard Portnoy</td>\n",
       "      <td>Print \\nAn Iranian woman has been sentenced to...</td>\n",
       "      <td>1</td>\n",
       "    </tr>\n",
       "    <tr>\n",
       "      <th>...</th>\n",
       "      <td>...</td>\n",
       "      <td>...</td>\n",
       "      <td>...</td>\n",
       "      <td>...</td>\n",
       "      <td>...</td>\n",
       "    </tr>\n",
       "    <tr>\n",
       "      <th>20795</th>\n",
       "      <td>20795</td>\n",
       "      <td>Rapper T.I.: Trump a ’Poster Child For White S...</td>\n",
       "      <td>Jerome Hudson</td>\n",
       "      <td>Rapper T. I. unloaded on black celebrities who...</td>\n",
       "      <td>0</td>\n",
       "    </tr>\n",
       "    <tr>\n",
       "      <th>20796</th>\n",
       "      <td>20796</td>\n",
       "      <td>N.F.L. Playoffs: Schedule, Matchups and Odds -...</td>\n",
       "      <td>Benjamin Hoffman</td>\n",
       "      <td>When the Green Bay Packers lost to the Washing...</td>\n",
       "      <td>0</td>\n",
       "    </tr>\n",
       "    <tr>\n",
       "      <th>20797</th>\n",
       "      <td>20797</td>\n",
       "      <td>Macy’s Is Said to Receive Takeover Approach by...</td>\n",
       "      <td>Michael J. de la Merced and Rachel Abrams</td>\n",
       "      <td>The Macy’s of today grew from the union of sev...</td>\n",
       "      <td>0</td>\n",
       "    </tr>\n",
       "    <tr>\n",
       "      <th>20798</th>\n",
       "      <td>20798</td>\n",
       "      <td>NATO, Russia To Hold Parallel Exercises In Bal...</td>\n",
       "      <td>Alex Ansary</td>\n",
       "      <td>NATO, Russia To Hold Parallel Exercises In Bal...</td>\n",
       "      <td>1</td>\n",
       "    </tr>\n",
       "    <tr>\n",
       "      <th>20799</th>\n",
       "      <td>20799</td>\n",
       "      <td>What Keeps the F-35 Alive</td>\n",
       "      <td>David Swanson</td>\n",
       "      <td>David Swanson is an author, activist, journa...</td>\n",
       "      <td>1</td>\n",
       "    </tr>\n",
       "  </tbody>\n",
       "</table>\n",
       "<p>20800 rows × 5 columns</p>\n",
       "</div>"
      ],
      "text/plain": [
       "          id                                              title  \\\n",
       "0          0  House Dem Aide: We Didn’t Even See Comey’s Let...   \n",
       "1          1  FLYNN: Hillary Clinton, Big Woman on Campus - ...   \n",
       "2          2                  Why the Truth Might Get You Fired   \n",
       "3          3  15 Civilians Killed In Single US Airstrike Hav...   \n",
       "4          4  Iranian woman jailed for fictional unpublished...   \n",
       "...      ...                                                ...   \n",
       "20795  20795  Rapper T.I.: Trump a ’Poster Child For White S...   \n",
       "20796  20796  N.F.L. Playoffs: Schedule, Matchups and Odds -...   \n",
       "20797  20797  Macy’s Is Said to Receive Takeover Approach by...   \n",
       "20798  20798  NATO, Russia To Hold Parallel Exercises In Bal...   \n",
       "20799  20799                          What Keeps the F-35 Alive   \n",
       "\n",
       "                                          author  \\\n",
       "0                                  Darrell Lucus   \n",
       "1                                Daniel J. Flynn   \n",
       "2                             Consortiumnews.com   \n",
       "3                                Jessica Purkiss   \n",
       "4                                 Howard Portnoy   \n",
       "...                                          ...   \n",
       "20795                              Jerome Hudson   \n",
       "20796                           Benjamin Hoffman   \n",
       "20797  Michael J. de la Merced and Rachel Abrams   \n",
       "20798                                Alex Ansary   \n",
       "20799                              David Swanson   \n",
       "\n",
       "                                                    text  label  \n",
       "0      House Dem Aide: We Didn’t Even See Comey’s Let...      1  \n",
       "1      Ever get the feeling your life circles the rou...      0  \n",
       "2      Why the Truth Might Get You Fired October 29, ...      1  \n",
       "3      Videos 15 Civilians Killed In Single US Airstr...      1  \n",
       "4      Print \\nAn Iranian woman has been sentenced to...      1  \n",
       "...                                                  ...    ...  \n",
       "20795  Rapper T. I. unloaded on black celebrities who...      0  \n",
       "20796  When the Green Bay Packers lost to the Washing...      0  \n",
       "20797  The Macy’s of today grew from the union of sev...      0  \n",
       "20798  NATO, Russia To Hold Parallel Exercises In Bal...      1  \n",
       "20799    David Swanson is an author, activist, journa...      1  \n",
       "\n",
       "[20800 rows x 5 columns]"
      ]
     },
     "execution_count": 2,
     "metadata": {},
     "output_type": "execute_result"
    }
   ],
   "source": [
    "df = pd.read_csv(\"train.csv\")\n",
    "df"
   ]
  },
  {
   "cell_type": "code",
   "execution_count": 3,
   "id": "4699d397-4b89-4ea7-996c-0e1e0fd8010e",
   "metadata": {},
   "outputs": [
    {
     "data": {
      "text/html": [
       "<div>\n",
       "<style scoped>\n",
       "    .dataframe tbody tr th:only-of-type {\n",
       "        vertical-align: middle;\n",
       "    }\n",
       "\n",
       "    .dataframe tbody tr th {\n",
       "        vertical-align: top;\n",
       "    }\n",
       "\n",
       "    .dataframe thead th {\n",
       "        text-align: right;\n",
       "    }\n",
       "</style>\n",
       "<table border=\"1\" class=\"dataframe\">\n",
       "  <thead>\n",
       "    <tr style=\"text-align: right;\">\n",
       "      <th></th>\n",
       "      <th>id</th>\n",
       "      <th>title</th>\n",
       "      <th>author</th>\n",
       "      <th>text</th>\n",
       "      <th>label</th>\n",
       "    </tr>\n",
       "  </thead>\n",
       "  <tbody>\n",
       "    <tr>\n",
       "      <th>0</th>\n",
       "      <td>0</td>\n",
       "      <td>House Dem Aide: We Didn’t Even See Comey’s Let...</td>\n",
       "      <td>Darrell Lucus</td>\n",
       "      <td>House Dem Aide: We Didn’t Even See Comey’s Let...</td>\n",
       "      <td>1</td>\n",
       "    </tr>\n",
       "    <tr>\n",
       "      <th>1</th>\n",
       "      <td>1</td>\n",
       "      <td>FLYNN: Hillary Clinton, Big Woman on Campus - ...</td>\n",
       "      <td>Daniel J. Flynn</td>\n",
       "      <td>Ever get the feeling your life circles the rou...</td>\n",
       "      <td>0</td>\n",
       "    </tr>\n",
       "    <tr>\n",
       "      <th>2</th>\n",
       "      <td>2</td>\n",
       "      <td>Why the Truth Might Get You Fired</td>\n",
       "      <td>Consortiumnews.com</td>\n",
       "      <td>Why the Truth Might Get You Fired October 29, ...</td>\n",
       "      <td>1</td>\n",
       "    </tr>\n",
       "    <tr>\n",
       "      <th>3</th>\n",
       "      <td>3</td>\n",
       "      <td>15 Civilians Killed In Single US Airstrike Hav...</td>\n",
       "      <td>Jessica Purkiss</td>\n",
       "      <td>Videos 15 Civilians Killed In Single US Airstr...</td>\n",
       "      <td>1</td>\n",
       "    </tr>\n",
       "    <tr>\n",
       "      <th>4</th>\n",
       "      <td>4</td>\n",
       "      <td>Iranian woman jailed for fictional unpublished...</td>\n",
       "      <td>Howard Portnoy</td>\n",
       "      <td>Print \\nAn Iranian woman has been sentenced to...</td>\n",
       "      <td>1</td>\n",
       "    </tr>\n",
       "  </tbody>\n",
       "</table>\n",
       "</div>"
      ],
      "text/plain": [
       "   id                                              title              author  \\\n",
       "0   0  House Dem Aide: We Didn’t Even See Comey’s Let...       Darrell Lucus   \n",
       "1   1  FLYNN: Hillary Clinton, Big Woman on Campus - ...     Daniel J. Flynn   \n",
       "2   2                  Why the Truth Might Get You Fired  Consortiumnews.com   \n",
       "3   3  15 Civilians Killed In Single US Airstrike Hav...     Jessica Purkiss   \n",
       "4   4  Iranian woman jailed for fictional unpublished...      Howard Portnoy   \n",
       "\n",
       "                                                text  label  \n",
       "0  House Dem Aide: We Didn’t Even See Comey’s Let...      1  \n",
       "1  Ever get the feeling your life circles the rou...      0  \n",
       "2  Why the Truth Might Get You Fired October 29, ...      1  \n",
       "3  Videos 15 Civilians Killed In Single US Airstr...      1  \n",
       "4  Print \\nAn Iranian woman has been sentenced to...      1  "
      ]
     },
     "execution_count": 3,
     "metadata": {},
     "output_type": "execute_result"
    }
   ],
   "source": [
    "df.head()"
   ]
  },
  {
   "cell_type": "code",
   "execution_count": 4,
   "id": "c96cc8c5-efe5-46b7-a40d-31e4c5120cbb",
   "metadata": {},
   "outputs": [
    {
     "name": "stdout",
     "output_type": "stream",
     "text": [
      "House Dem Aide: We Didn’t Even See Comey’s Letter Until Jason Chaffetz Tweeted It. FLYNN: Hillary Clinton, Big Woman on Campus - Breitbart. Why the Truth Might Get You Fired. 15 Civilians Killed In Single US Airstrike Have Been Identified. Iranian woman jailed for fictional unpublished story about woman stoned to death for adultery\n"
     ]
    }
   ],
   "source": [
    "eg = \"\"\n",
    "eg = '. '.join(df['title'].head())\n",
    "print(eg)"
   ]
  },
  {
   "cell_type": "code",
   "execution_count": 5,
   "id": "c9243730-24cb-49e3-8375-036c4923bab8",
   "metadata": {},
   "outputs": [],
   "source": [
    "import nltk\n",
    "from nltk.corpus import stopwords"
   ]
  },
  {
   "cell_type": "code",
   "execution_count": 6,
   "id": "1a440d41-8354-45ea-8fbe-8ce141a1c933",
   "metadata": {},
   "outputs": [
    {
     "name": "stdout",
     "output_type": "stream",
     "text": [
      "['i', 'me', 'my', 'myself', 'we', 'our', 'ours', 'ourselves', 'you', \"you're\", \"you've\", \"you'll\", \"you'd\", 'your', 'yours', 'yourself', 'yourselves', 'he', 'him', 'his', 'himself', 'she', \"she's\", 'her', 'hers', 'herself', 'it', \"it's\", 'its', 'itself', 'they', 'them', 'their', 'theirs', 'themselves', 'what', 'which', 'who', 'whom', 'this', 'that', \"that'll\", 'these', 'those', 'am', 'is', 'are', 'was', 'were', 'be', 'been', 'being', 'have', 'has', 'had', 'having', 'do', 'does', 'did', 'doing', 'a', 'an', 'the', 'and', 'but', 'if', 'or', 'because', 'as', 'until', 'while', 'of', 'at', 'by', 'for', 'with', 'about', 'against', 'between', 'into', 'through', 'during', 'before', 'after', 'above', 'below', 'to', 'from', 'up', 'down', 'in', 'out', 'on', 'off', 'over', 'under', 'again', 'further', 'then', 'once', 'here', 'there', 'when', 'where', 'why', 'how', 'all', 'any', 'both', 'each', 'few', 'more', 'most', 'other', 'some', 'such', 'no', 'nor', 'not', 'only', 'own', 'same', 'so', 'than', 'too', 'very', 's', 't', 'can', 'will', 'just', 'don', \"don't\", 'should', \"should've\", 'now', 'd', 'll', 'm', 'o', 're', 've', 'y', 'ain', 'aren', \"aren't\", 'couldn', \"couldn't\", 'didn', \"didn't\", 'doesn', \"doesn't\", 'hadn', \"hadn't\", 'hasn', \"hasn't\", 'haven', \"haven't\", 'isn', \"isn't\", 'ma', 'mightn', \"mightn't\", 'mustn', \"mustn't\", 'needn', \"needn't\", 'shan', \"shan't\", 'shouldn', \"shouldn't\", 'wasn', \"wasn't\", 'weren', \"weren't\", 'won', \"won't\", 'wouldn', \"wouldn't\"]\n"
     ]
    }
   ],
   "source": [
    "stopword = stopwords.words(\"english\")\n",
    "print(stopword)"
   ]
  },
  {
   "cell_type": "code",
   "execution_count": 7,
   "id": "5610ec43-2463-4b55-982d-dafb2d67c7aa",
   "metadata": {},
   "outputs": [
    {
     "data": {
      "text/plain": [
       "'house dem aide: we didn’t even see comey’s letter until jason chaffetz tweeted it. flynn: hillary clinton, big woman on campus - breitbart. why the truth might get you fired. 15 civilians killed in single us airstrike have been identified. iranian woman jailed for fictional unpublished story about woman stoned to death for adultery'"
      ]
     },
     "execution_count": 7,
     "metadata": {},
     "output_type": "execute_result"
    }
   ],
   "source": [
    "eg = eg.lower()\n",
    "eg"
   ]
  },
  {
   "cell_type": "code",
   "execution_count": 8,
   "id": "81c8898e-39be-4e5d-ac9e-600b4c284e55",
   "metadata": {},
   "outputs": [
    {
     "name": "stdout",
     "output_type": "stream",
     "text": [
      "['house', 'dem', 'aide', ':', 'we', 'didn', '’', 't', 'even', 'see', 'comey', '’', 's', 'letter', 'until', 'jason', 'chaffetz', 'tweeted', 'it', '.', 'flynn', ':', 'hillary', 'clinton', ',', 'big', 'woman', 'on', 'campus', '-', 'breitbart', '.', 'why', 'the', 'truth', 'might', 'get', 'you', 'fired', '.', '15', 'civilians', 'killed', 'in', 'single', 'us', 'airstrike', 'have', 'been', 'identified', '.', 'iranian', 'woman', 'jailed', 'for', 'fictional', 'unpublished', 'story', 'about', 'woman', 'stoned', 'to', 'death', 'for', 'adultery']\n"
     ]
    }
   ],
   "source": [
    "words = nltk.word_tokenize(eg)\n",
    "print(words)"
   ]
  },
  {
   "cell_type": "code",
   "execution_count": 9,
   "id": "7110b702-9f0b-4537-bd75-d3a43478f75a",
   "metadata": {},
   "outputs": [
    {
     "name": "stdout",
     "output_type": "stream",
     "text": [
      "['house', 'dem', 'aide', ':', '’', 'even', 'see', 'comey', '’', 'letter', 'jason', 'chaffetz', 'tweeted', '.', 'flynn', ':', 'hillary', 'clinton', ',', 'big', 'woman', 'campus', '-', 'breitbart', '.', 'truth', 'might', 'get', 'fired', '.', '15', 'civilians', 'killed', 'single', 'us', 'airstrike', 'identified', '.', 'iranian', 'woman', 'jailed', 'fictional', 'unpublished', 'story', 'woman', 'stoned', 'death', 'adultery']\n"
     ]
    }
   ],
   "source": [
    "without_stopword = [word for word in words if word not in stopword]\n",
    "print(without_stopword)"
   ]
  },
  {
   "cell_type": "code",
   "execution_count": 10,
   "id": "5cb87789-ac78-4f70-8bd7-f1d6cf2c558e",
   "metadata": {},
   "outputs": [],
   "source": [
    "from nltk.stem import WordNetLemmatizer\n",
    "from nltk.stem import SnowballStemmer"
   ]
  },
  {
   "cell_type": "code",
   "execution_count": 11,
   "id": "016b6e36-5d26-4648-befc-6646f3d29a69",
   "metadata": {},
   "outputs": [
    {
     "name": "stdout",
     "output_type": "stream",
     "text": [
      "['house', 'dem', 'aide', ':', '’', 'even', 'see', 'comey', '’', 'letter', 'jason', 'chaffetz', 'tweeted', '.', 'flynn', ':', 'hillary', 'clinton', ',', 'big', 'woman', 'campus', '-', 'breitbart', '.', 'truth', 'might', 'get', 'fired', '.', '15', 'civilian', 'killed', 'single', 'u', 'airstrike', 'identified', '.', 'iranian', 'woman', 'jailed', 'fictional', 'unpublished', 'story', 'woman', 'stoned', 'death', 'adultery']\n"
     ]
    }
   ],
   "source": [
    "lemmatizer = WordNetLemmatizer()\n",
    "lemmatized_output = ([lemmatizer.lemmatize(w) for w in without_stopword])\n",
    "print(lemmatized_output)"
   ]
  },
  {
   "cell_type": "code",
   "execution_count": 12,
   "id": "617708b2-9214-43c1-8b8d-ef7a68fa6e1e",
   "metadata": {},
   "outputs": [
    {
     "name": "stdout",
     "output_type": "stream",
     "text": [
      "['house', 'dem', 'aide', 'even', 'see', 'comey', 'letter', 'jason', 'chaffetz', 'tweeted', 'flynn', 'hillary', 'clinton', 'big', 'woman', 'campus', 'breitbart', 'truth', 'might', 'get', 'fired', 'civilians', 'killed', 'single', 'us', 'airstrike', 'identified', 'iranian', 'woman', 'jailed', 'fictional', 'unpublished', 'story', 'woman', 'stoned', 'death', 'adultery']\n"
     ]
    }
   ],
   "source": [
    "without_punctuation = []\n",
    "for q in without_stopword:\n",
    "    if(q.isalpha()):\n",
    "        without_punctuation.append(q)\n",
    "        \n",
    "print(without_punctuation)"
   ]
  },
  {
   "cell_type": "code",
   "execution_count": 13,
   "id": "61b91c17-2b9b-44ff-8e92-353a524b65e4",
   "metadata": {},
   "outputs": [
    {
     "name": "stdout",
     "output_type": "stream",
     "text": [
      "['house', 'dem', 'aide', 'even', 'see', 'comey', 'letter', 'jason', 'chaffetz', 'tweeted', 'flynn', 'hillary', 'clinton', 'big', 'woman', 'campus', 'breitbart', 'truth', 'might', 'get', 'fired', 'civilian', 'killed', 'single', 'u', 'airstrike', 'identified', 'iranian', 'woman', 'jailed', 'fictional', 'unpublished', 'story', 'woman', 'stoned', 'death', 'adultery']\n"
     ]
    }
   ],
   "source": [
    "lemmatizer = WordNetLemmatizer()\n",
    "lemmatized_output = ([lemmatizer.lemmatize(w) for w in without_punctuation])\n",
    "print(lemmatized_output)"
   ]
  },
  {
   "cell_type": "code",
   "execution_count": 14,
   "id": "57f01d94-c343-45ce-91dc-c221d9a49504",
   "metadata": {},
   "outputs": [
    {
     "name": "stdout",
     "output_type": "stream",
     "text": [
      "['hous', 'dem', 'aid', 'even', 'see', 'comey', 'letter', 'jason', 'chaffetz', 'tweet', 'flynn', 'hillari', 'clinton', 'big', 'woman', 'campus', 'breitbart', 'truth', 'might', 'get', 'fire', 'civilian', 'kill', 'singl', 'us', 'airstrik', 'identifi', 'iranian', 'woman', 'jail', 'fiction', 'unpublish', 'stori', 'woman', 'stone', 'death', 'adulteri']\n"
     ]
    }
   ],
   "source": [
    "stemmed_words = []\n",
    "stemmer = SnowballStemmer(\"english\")\n",
    "for word in without_punctuation:\n",
    "    stemmed_words.append(stemmer.stem(word))\n",
    "    \n",
    "print(stemmed_words)"
   ]
  },
  {
   "cell_type": "code",
   "execution_count": 15,
   "id": "9aed960a",
   "metadata": {},
   "outputs": [
    {
     "data": {
      "text/plain": [
       "[('hous', 'JJ'),\n",
       " ('dem', 'NN'),\n",
       " ('aid', 'NN'),\n",
       " ('even', 'RB'),\n",
       " ('see', 'VB'),\n",
       " ('comey', 'JJ'),\n",
       " ('letter', 'NN'),\n",
       " ('jason', 'NN'),\n",
       " ('chaffetz', 'NN'),\n",
       " ('tweet', 'NN'),\n",
       " ('flynn', 'NN'),\n",
       " ('hillari', 'VBP'),\n",
       " ('clinton', 'NN'),\n",
       " ('big', 'JJ'),\n",
       " ('woman', 'NN'),\n",
       " ('campus', 'NN'),\n",
       " ('breitbart', 'NN'),\n",
       " ('truth', 'NN'),\n",
       " ('might', 'MD'),\n",
       " ('get', 'VB'),\n",
       " ('fire', 'JJ'),\n",
       " ('civilian', 'JJ'),\n",
       " ('kill', 'NN'),\n",
       " ('singl', 'VBD'),\n",
       " ('us', 'PRP'),\n",
       " ('airstrik', 'RP'),\n",
       " ('identifi', 'JJ'),\n",
       " ('iranian', 'JJ'),\n",
       " ('woman', 'NN'),\n",
       " ('jail', 'NN'),\n",
       " ('fiction', 'NN'),\n",
       " ('unpublish', 'JJ'),\n",
       " ('stori', 'NN'),\n",
       " ('woman', 'NN'),\n",
       " ('stone', 'VBD'),\n",
       " ('death', 'NN'),\n",
       " ('adulteri', 'NN')]"
      ]
     },
     "execution_count": 15,
     "metadata": {},
     "output_type": "execute_result"
    }
   ],
   "source": [
    "pos_tagged = nltk.pos_tag(stemmed_words)\n",
    "pos_tagged"
   ]
  },
  {
   "cell_type": "code",
   "execution_count": 16,
   "id": "2f2edd19",
   "metadata": {},
   "outputs": [
    {
     "data": {
      "text/plain": [
       "['house dem aide: we didn’t even see comey’s letter until jason chaffetz tweeted it.',\n",
       " 'flynn: hillary clinton, big woman on campus - breitbart.',\n",
       " 'why the truth might get you fired.',\n",
       " '15 civilians killed in single us airstrike have been identified.',\n",
       " 'iranian woman jailed for fictional unpublished story about woman stoned to death for adultery']"
      ]
     },
     "execution_count": 16,
     "metadata": {},
     "output_type": "execute_result"
    }
   ],
   "source": [
    "sen = nltk.sent_tokenize(eg)\n",
    "sen"
   ]
  },
  {
   "cell_type": "code",
   "execution_count": 18,
   "id": "68b53ed9",
   "metadata": {},
   "outputs": [],
   "source": [
    "from sklearn.feature_extraction.text import TfidfVectorizer"
   ]
  },
  {
   "cell_type": "code",
   "execution_count": 19,
   "id": "26953033",
   "metadata": {},
   "outputs": [
    {
     "data": {
      "text/plain": [
       "<5x50 sparse matrix of type '<class 'numpy.float64'>'\n",
       "\twith 51 stored elements in Compressed Sparse Row format>"
      ]
     },
     "execution_count": 19,
     "metadata": {},
     "output_type": "execute_result"
    }
   ],
   "source": [
    "# create object\n",
    "tfidf = TfidfVectorizer()\n",
    "\n",
    "# get tf-df values\n",
    "result = tfidf.fit_transform(sen)\n",
    "result "
   ]
  },
  {
   "cell_type": "code",
   "execution_count": 20,
   "id": "7c258775",
   "metadata": {},
   "outputs": [
    {
     "name": "stdout",
     "output_type": "stream",
     "text": [
      "15 : 2.09861228866811\n",
      "about : 2.09861228866811\n",
      "adultery : 2.09861228866811\n",
      "aide : 2.09861228866811\n",
      "airstrike : 2.09861228866811\n",
      "been : 2.09861228866811\n",
      "big : 2.09861228866811\n",
      "breitbart : 2.09861228866811\n",
      "campus : 2.09861228866811\n",
      "chaffetz : 2.09861228866811\n",
      "civilians : 2.09861228866811\n",
      "clinton : 2.09861228866811\n",
      "comey : 2.09861228866811\n",
      "death : 2.09861228866811\n",
      "dem : 2.09861228866811\n",
      "didn : 2.09861228866811\n",
      "even : 2.09861228866811\n",
      "fictional : 2.09861228866811\n",
      "fired : 2.09861228866811\n",
      "flynn : 2.09861228866811\n",
      "for : 2.09861228866811\n",
      "get : 2.09861228866811\n",
      "have : 2.09861228866811\n",
      "hillary : 2.09861228866811\n",
      "house : 2.09861228866811\n",
      "identified : 2.09861228866811\n",
      "in : 2.09861228866811\n",
      "iranian : 2.09861228866811\n",
      "it : 2.09861228866811\n",
      "jailed : 2.09861228866811\n",
      "jason : 2.09861228866811\n",
      "killed : 2.09861228866811\n",
      "letter : 2.09861228866811\n",
      "might : 2.09861228866811\n",
      "on : 2.09861228866811\n",
      "see : 2.09861228866811\n",
      "single : 2.09861228866811\n",
      "stoned : 2.09861228866811\n",
      "story : 2.09861228866811\n",
      "the : 2.09861228866811\n",
      "to : 2.09861228866811\n",
      "truth : 2.09861228866811\n",
      "tweeted : 2.09861228866811\n",
      "unpublished : 2.09861228866811\n",
      "until : 2.09861228866811\n",
      "us : 2.09861228866811\n",
      "we : 2.09861228866811\n",
      "why : 2.09861228866811\n",
      "woman : 1.6931471805599454\n",
      "you : 2.09861228866811\n"
     ]
    }
   ],
   "source": [
    "# get idf values\n",
    "for ele1, ele2 in zip(tfidf.get_feature_names(), tfidf.idf_):\n",
    "    print(ele1, ':', ele2)"
   ]
  },
  {
   "cell_type": "code",
   "execution_count": 21,
   "id": "028a66a4",
   "metadata": {},
   "outputs": [
    {
     "name": "stdout",
     "output_type": "stream",
     "text": [
      "\n",
      "Word indexes:\n",
      "{'house': 24, 'dem': 14, 'aide': 3, 'we': 46, 'didn': 15, 'even': 16, 'see': 35, 'comey': 12, 'letter': 32, 'until': 44, 'jason': 30, 'chaffetz': 9, 'tweeted': 42, 'it': 28, 'flynn': 19, 'hillary': 23, 'clinton': 11, 'big': 6, 'woman': 48, 'on': 34, 'campus': 8, 'breitbart': 7, 'why': 47, 'the': 39, 'truth': 41, 'might': 33, 'get': 21, 'you': 49, 'fired': 18, '15': 0, 'civilians': 10, 'killed': 31, 'in': 26, 'single': 36, 'us': 45, 'airstrike': 4, 'have': 22, 'been': 5, 'identified': 25, 'iranian': 27, 'jailed': 29, 'for': 20, 'fictional': 17, 'unpublished': 43, 'story': 38, 'about': 1, 'stoned': 37, 'to': 40, 'death': 13, 'adultery': 2}\n",
      "\n",
      "tf-idf value:\n",
      "  (0, 28)\t0.26726124191242434\n",
      "  (0, 42)\t0.26726124191242434\n",
      "  (0, 9)\t0.26726124191242434\n",
      "  (0, 30)\t0.26726124191242434\n",
      "  (0, 44)\t0.26726124191242434\n",
      "  (0, 32)\t0.26726124191242434\n",
      "  (0, 12)\t0.26726124191242434\n",
      "  (0, 35)\t0.26726124191242434\n",
      "  (0, 16)\t0.26726124191242434\n",
      "  (0, 15)\t0.26726124191242434\n",
      "  (0, 46)\t0.26726124191242434\n",
      "  (0, 3)\t0.26726124191242434\n",
      "  (0, 14)\t0.26726124191242434\n",
      "  (0, 24)\t0.26726124191242434\n",
      "  (1, 7)\t0.36152911730069653\n",
      "  (1, 8)\t0.36152911730069653\n",
      "  (1, 34)\t0.36152911730069653\n",
      "  (1, 48)\t0.2916794154657719\n",
      "  (1, 6)\t0.36152911730069653\n",
      "  (1, 11)\t0.36152911730069653\n",
      "  (1, 23)\t0.36152911730069653\n",
      "  (1, 19)\t0.36152911730069653\n",
      "  (2, 18)\t0.3779644730092272\n",
      "  (2, 49)\t0.3779644730092272\n",
      "  (2, 21)\t0.3779644730092272\n",
      "  :\t:\n",
      "  (2, 41)\t0.3779644730092272\n",
      "  (2, 39)\t0.3779644730092272\n",
      "  (2, 47)\t0.3779644730092272\n",
      "  (3, 25)\t0.3162277660168379\n",
      "  (3, 5)\t0.3162277660168379\n",
      "  (3, 22)\t0.3162277660168379\n",
      "  (3, 4)\t0.3162277660168379\n",
      "  (3, 45)\t0.3162277660168379\n",
      "  (3, 36)\t0.3162277660168379\n",
      "  (3, 26)\t0.3162277660168379\n",
      "  (3, 31)\t0.3162277660168379\n",
      "  (3, 10)\t0.3162277660168379\n",
      "  (3, 0)\t0.3162277660168379\n",
      "  (4, 2)\t0.24541326180407053\n",
      "  (4, 13)\t0.24541326180407053\n",
      "  (4, 40)\t0.24541326180407053\n",
      "  (4, 37)\t0.24541326180407053\n",
      "  (4, 1)\t0.24541326180407053\n",
      "  (4, 38)\t0.24541326180407053\n",
      "  (4, 43)\t0.24541326180407053\n",
      "  (4, 17)\t0.24541326180407053\n",
      "  (4, 20)\t0.49082652360814105\n",
      "  (4, 29)\t0.24541326180407053\n",
      "  (4, 27)\t0.24541326180407053\n",
      "  (4, 48)\t0.3959957487519461\n",
      "\n",
      "tf-idf values in matrix form:\n",
      "[[0.         0.         0.         0.26726124 0.         0.\n",
      "  0.         0.         0.         0.26726124 0.         0.\n",
      "  0.26726124 0.         0.26726124 0.26726124 0.26726124 0.\n",
      "  0.         0.         0.         0.         0.         0.\n",
      "  0.26726124 0.         0.         0.         0.26726124 0.\n",
      "  0.26726124 0.         0.26726124 0.         0.         0.26726124\n",
      "  0.         0.         0.         0.         0.         0.\n",
      "  0.26726124 0.         0.26726124 0.         0.26726124 0.\n",
      "  0.         0.        ]\n",
      " [0.         0.         0.         0.         0.         0.\n",
      "  0.36152912 0.36152912 0.36152912 0.         0.         0.36152912\n",
      "  0.         0.         0.         0.         0.         0.\n",
      "  0.         0.36152912 0.         0.         0.         0.36152912\n",
      "  0.         0.         0.         0.         0.         0.\n",
      "  0.         0.         0.         0.         0.36152912 0.\n",
      "  0.         0.         0.         0.         0.         0.\n",
      "  0.         0.         0.         0.         0.         0.\n",
      "  0.29167942 0.        ]\n",
      " [0.         0.         0.         0.         0.         0.\n",
      "  0.         0.         0.         0.         0.         0.\n",
      "  0.         0.         0.         0.         0.         0.\n",
      "  0.37796447 0.         0.         0.37796447 0.         0.\n",
      "  0.         0.         0.         0.         0.         0.\n",
      "  0.         0.         0.         0.37796447 0.         0.\n",
      "  0.         0.         0.         0.37796447 0.         0.37796447\n",
      "  0.         0.         0.         0.         0.         0.37796447\n",
      "  0.         0.37796447]\n",
      " [0.31622777 0.         0.         0.         0.31622777 0.31622777\n",
      "  0.         0.         0.         0.         0.31622777 0.\n",
      "  0.         0.         0.         0.         0.         0.\n",
      "  0.         0.         0.         0.         0.31622777 0.\n",
      "  0.         0.31622777 0.31622777 0.         0.         0.\n",
      "  0.         0.31622777 0.         0.         0.         0.\n",
      "  0.31622777 0.         0.         0.         0.         0.\n",
      "  0.         0.         0.         0.31622777 0.         0.\n",
      "  0.         0.        ]\n",
      " [0.         0.24541326 0.24541326 0.         0.         0.\n",
      "  0.         0.         0.         0.         0.         0.\n",
      "  0.         0.24541326 0.         0.         0.         0.24541326\n",
      "  0.         0.         0.49082652 0.         0.         0.\n",
      "  0.         0.         0.         0.24541326 0.         0.24541326\n",
      "  0.         0.         0.         0.         0.         0.\n",
      "  0.         0.24541326 0.24541326 0.         0.24541326 0.\n",
      "  0.         0.24541326 0.         0.         0.         0.\n",
      "  0.39599575 0.        ]]\n"
     ]
    }
   ],
   "source": [
    "# get indexing\n",
    "print('\\nWord indexes:')\n",
    "print(tfidf.vocabulary_)\n",
    "\n",
    "# display tf-idf values\n",
    "print('\\ntf-idf value:')\n",
    "print(result)\n",
    "\n",
    "# in matrix form\n",
    "print('\\ntf-idf values in matrix form:')\n",
    "print(result.toarray())"
   ]
  }
 ],
 "metadata": {
  "kernelspec": {
   "display_name": "Python 3 (ipykernel)",
   "language": "python",
   "name": "python3"
  },
  "language_info": {
   "codemirror_mode": {
    "name": "ipython",
    "version": 3
   },
   "file_extension": ".py",
   "mimetype": "text/x-python",
   "name": "python",
   "nbconvert_exporter": "python",
   "pygments_lexer": "ipython3",
   "version": "3.12.7"
  }
 },
 "nbformat": 4,
 "nbformat_minor": 5
}
